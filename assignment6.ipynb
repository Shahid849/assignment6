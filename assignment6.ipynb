{
 "cells": [
  {
   "cell_type": "markdown",
   "id": "0ea1ba53",
   "metadata": {},
   "source": [
    "Q.1. What are keywords in python? Using the keyword library, print all the python keywords.\n",
    "\n",
    "Ans: Keywords in Python are reserved words with predefined meanings. The keyword library allows access to the list of Python keywords. To print all keywords, use:\n",
    "import keyword\n",
    "print(keyword.kwlist)\n"
   ]
  },
  {
   "cell_type": "markdown",
   "id": "7bc32788",
   "metadata": {},
   "source": [
    "Q.2. What are the rules to create variables in python?\n",
    "\n",
    "Ans:In Python, variable names must start with a letter or underscore, followed by letters, numbers, or underscores. They are case-sensitive, can't be a Python keyword, and should follow naming conventions\n"
   ]
  },
  {
   "cell_type": "markdown",
   "id": "5fed31af",
   "metadata": {},
   "source": [
    "Q.3.What are the standards and conventions followed for the nomenclature of variables in\n",
    "python to improve code readability and maintainability?\n",
    "Ans:Use lowercase with underscores for variable names (snake_case).\n",
    "Descriptive and meaningful names.\n",
    "Avoid using single-character names except for counters or iterators.\n",
    "Constants in all caps with underscores."
   ]
  },
  {
   "cell_type": "markdown",
   "id": "ac444279",
   "metadata": {},
   "source": [
    "Q.4. What will happen if a keyword is used as a variable name?\n",
    "\n",
    "Ans:If a keyword is used as a variable name in Python, it will result in a syntax error."
   ]
  },
  {
   "cell_type": "markdown",
   "id": "8676f219",
   "metadata": {},
   "source": [
    "Q.5. For what purpose def keyword is used?\n",
    "\n",
    "Ans: def keyword is used for creating a function."
   ]
  },
  {
   "cell_type": "markdown",
   "id": "178b2294",
   "metadata": {},
   "source": [
    "Q.6. What is the operation of this special character ‘\\’?\n",
    "\n",
    "Ans:In Python, the backslash character (\\) is used as an escape character. It indicates that the character following it has a special meaning. For example:\n",
    "\n",
    "\\n represents a newline"
   ]
  },
  {
   "cell_type": "markdown",
   "id": "f574cd6f",
   "metadata": {},
   "source": [
    "Q.7. Give an example of the following conditions:\n",
    "(i) Homogeneous list\n",
    "(ii) Heterogeneous set\n",
    "(iii) Homogeneous tuple\n",
    "\n",
    "Ans:numbers = [1, 2, 3, 4, 5]\n",
    "mixed_set = {1, 'apple', 3.14, (2, 3)}\n",
    "colors = ('red', 'green', 'blue')\n"
   ]
  },
  {
   "cell_type": "raw",
   "id": "3edd4172",
   "metadata": {},
   "source": [
    "Q.8. Explain the mutable and immutable data types with proper explanation & examples.\n",
    "\n",
    "In Python, mutable data types can be modified after creation, while immutable data types cannot be changed once they are created.\n",
    "\n",
    "Mutable Data Types:\n",
    "    1. List\n",
    "    my_list = [1, 2, 3]\n",
    "    my_list[0] = 10\n",
    "immutable Data Type:\n",
    "    my_tuple = (1, 2, 3)\n",
    "#Attempting to modify will raise an error: my_tuple[0] = 10\n"
   ]
  },
  {
   "cell_type": "code",
   "execution_count": 2,
   "id": "77592c10",
   "metadata": {},
   "outputs": [
    {
     "name": "stdout",
     "output_type": "stream",
     "text": [
      "    *\n",
      "   ***\n",
      "  *****\n",
      " *******\n",
      "*********\n"
     ]
    }
   ],
   "source": [
    "Q.9. Write a code to create the given structure using only for loop.\n",
    "    *\n",
    "   ***\n",
    "  *****\n",
    " *******\n",
    "*********\n",
    "rows = 5\n",
    "\n",
    "for i in range(1, rows + 1):\n",
    "    for j in range(1, rows - i + 1):\n",
    "        print(\" \", end=\"\")\n",
    "    \n",
    "    for k in range(1, 2 * i):\n",
    "        print(\"*\", end=\"\")\n",
    "    \n",
    "    print()\n"
   ]
  },
  {
   "cell_type": "code",
   "execution_count": 3,
   "id": "1f67d8b1",
   "metadata": {},
   "outputs": [
    {
     "name": "stdout",
     "output_type": "stream",
     "text": [
      "|||||||||\n",
      " |||||||\n",
      "  |||||\n",
      "   |||\n",
      "    |\n"
     ]
    }
   ],
   "source": [
    "Q.10. Write a code to create the given structure using while loop.\n",
    "|||||||||\n",
    " |||||||\n",
    "  |||||\n",
    "   |||\n",
    "    |\n",
    "Ans:rows = 5\n",
    "i = 0\n",
    "\n",
    "while i < rows:\n",
    "    j = 0\n",
    "    \n",
    "    while j < i:\n",
    "        print(\" \", end=\"\")\n",
    "        j += 1\n",
    "    \n",
    "    k = 0\n",
    "    while k < 2 * (rows - i) - 1:\n",
    "        print(\"|\", end=\"\")\n",
    "        k += 1\n",
    "    \n",
    "    print()\n",
    "    i += 1\n"
   ]
  },
  {
   "cell_type": "code",
   "execution_count": null,
   "id": "2759bb13",
   "metadata": {},
   "outputs": [],
   "source": []
  }
 ],
 "metadata": {
  "kernelspec": {
   "display_name": "Python 3 (ipykernel)",
   "language": "python",
   "name": "python3"
  },
  "language_info": {
   "codemirror_mode": {
    "name": "ipython",
    "version": 3
   },
   "file_extension": ".py",
   "mimetype": "text/x-python",
   "name": "python",
   "nbconvert_exporter": "python",
   "pygments_lexer": "ipython3",
   "version": "3.9.18"
  }
 },
 "nbformat": 4,
 "nbformat_minor": 5
}
